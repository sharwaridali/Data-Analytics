{
 "cells": [
  {
   "cell_type": "code",
   "execution_count": 1,
   "id": "varying-digit",
   "metadata": {
    "_cell_guid": "b1076dfc-b9ad-4769-8c92-a6c4dae69d19",
    "_uuid": "8f2839f25d086af736a60e9eeb907d3b93b6e0e5",
    "execution": {
     "iopub.execute_input": "2021-05-02T07:39:27.802671Z",
     "iopub.status.busy": "2021-05-02T07:39:27.802153Z",
     "iopub.status.idle": "2021-05-02T07:39:27.817909Z",
     "shell.execute_reply": "2021-05-02T07:39:27.818429Z"
    },
    "papermill": {
     "duration": 0.032573,
     "end_time": "2021-05-02T07:39:27.818759",
     "exception": false,
     "start_time": "2021-05-02T07:39:27.786186",
     "status": "completed"
    },
    "tags": []
   },
   "outputs": [
    {
     "name": "stdout",
     "output_type": "stream",
     "text": [
      "/kaggle/input/student-scores/student_scores.csv\n"
     ]
    }
   ],
   "source": [
    "# This Python 3 environment comes with many helpful analytics libraries installed\n",
    "# It is defined by the kaggle/python Docker image: https://github.com/kaggle/docker-python\n",
    "# For example, here's several helpful packages to load\n",
    "\n",
    "import numpy as np # linear algebra\n",
    "import pandas as pd # data processing, CSV file I/O (e.g. pd.read_csv)\n",
    "import matplotlib.pyplot as plt\n",
    "%matplotlib inline\n",
    "\n",
    "# Input data files are available in the read-only \"../input/\" directory\n",
    "# For example, running this (by clicking run or pressing Shift+Enter) will list all files under the input directory\n",
    "\n",
    "import os\n",
    "for dirname, _, filenames in os.walk('/kaggle/input'):\n",
    "    for filename in filenames:\n",
    "        print(os.path.join(dirname, filename))\n",
    "\n",
    "# You can write up to 20GB to the current directory (/kaggle/working/) that gets preserved as output when you create a version using \"Save & Run All\" \n",
    "# You can also write temporary files to /kaggle/temp/, but they won't be saved outside of the current session"
   ]
  },
  {
   "cell_type": "code",
   "execution_count": 2,
   "id": "authorized-plaza",
   "metadata": {
    "execution": {
     "iopub.execute_input": "2021-05-02T07:39:27.843804Z",
     "iopub.status.busy": "2021-05-02T07:39:27.843255Z",
     "iopub.status.idle": "2021-05-02T07:39:27.877429Z",
     "shell.execute_reply": "2021-05-02T07:39:27.876973Z"
    },
    "papermill": {
     "duration": 0.048619,
     "end_time": "2021-05-02T07:39:27.877561",
     "exception": false,
     "start_time": "2021-05-02T07:39:27.828942",
     "status": "completed"
    },
    "tags": []
   },
   "outputs": [
    {
     "name": "stdout",
     "output_type": "stream",
     "text": [
      "    Hours  Scores\n",
      "0     2.5      21\n",
      "1     5.1      47\n",
      "2     3.2      27\n",
      "3     8.5      75\n",
      "4     3.5      30\n",
      "5     1.5      20\n",
      "6     9.2      88\n",
      "7     5.5      60\n",
      "8     8.3      81\n",
      "9     2.7      25\n",
      "10    7.7      85\n",
      "11    5.9      62\n",
      "12    4.5      41\n",
      "13    3.3      42\n",
      "14    1.1      17\n",
      "15    8.9      95\n",
      "16    2.5      30\n",
      "17    1.9      24\n",
      "18    6.1      67\n",
      "19    7.4      69\n",
      "20    2.7      30\n",
      "21    4.8      54\n",
      "22    3.8      35\n",
      "23    6.9      76\n",
      "24    7.8      86\n"
     ]
    }
   ],
   "source": [
    "#reading the csv file nad displaying the first few values\n",
    "df=pd.read_csv('../input/student-scores/student_scores.csv') \n",
    "print(df)"
   ]
  },
  {
   "cell_type": "code",
   "execution_count": 3,
   "id": "applicable-metropolitan",
   "metadata": {
    "execution": {
     "iopub.execute_input": "2021-05-02T07:39:27.896757Z",
     "iopub.status.busy": "2021-05-02T07:39:27.896094Z",
     "iopub.status.idle": "2021-05-02T07:39:28.121801Z",
     "shell.execute_reply": "2021-05-02T07:39:28.122218Z"
    },
    "papermill": {
     "duration": 0.237956,
     "end_time": "2021-05-02T07:39:28.122371",
     "exception": false,
     "start_time": "2021-05-02T07:39:27.884415",
     "status": "completed"
    },
    "tags": []
   },
   "outputs": [
    {
     "data": {
      "image/png": "[encoded data removed]",
      "text/plain": [
       "<Figure size 432x288 with 1 Axes>"
      ]
     },
     "metadata": {
      "needs_background": "light"
     },
     "output_type": "display_data"
    }
   ],
   "source": [
    "#ploting the data using matplot lib\n",
    "df.plot(x='Hours', y='Scores', style='go')\n",
    "plt.title('hours and percentage')\n",
    "plt.xlabel('studing hours')\n",
    "plt.ylabel('percentage score')\n",
    "plt.show()"
   ]
  },
  {
   "cell_type": "code",
   "execution_count": 4,
   "id": "suspended-district",
   "metadata": {
    "execution": {
     "iopub.execute_input": "2021-05-02T07:39:28.143901Z",
     "iopub.status.busy": "2021-05-02T07:39:28.143216Z",
     "iopub.status.idle": "2021-05-02T07:39:28.147332Z",
     "shell.execute_reply": "2021-05-02T07:39:28.146890Z"
    },
    "papermill": {
     "duration": 0.017357,
     "end_time": "2021-05-02T07:39:28.147447",
     "exception": false,
     "start_time": "2021-05-02T07:39:28.130090",
     "status": "completed"
    },
    "tags": []
   },
   "outputs": [],
   "source": [
    "# divide the data into attributes and labels\n",
    "x=df.iloc[:,:-1].values\n",
    "y=df.iloc[:,1].values "
   ]
  },
  {
   "cell_type": "code",
   "execution_count": 5,
   "id": "minute-proportion",
   "metadata": {
    "execution": {
     "iopub.execute_input": "2021-05-02T07:39:28.167912Z",
     "iopub.status.busy": "2021-05-02T07:39:28.167384Z",
     "iopub.status.idle": "2021-05-02T07:39:29.789981Z",
     "shell.execute_reply": "2021-05-02T07:39:29.789398Z"
    },
    "papermill": {
     "duration": 1.634941,
     "end_time": "2021-05-02T07:39:29.790128",
     "exception": false,
     "start_time": "2021-05-02T07:39:28.155187",
     "status": "completed"
    },
    "tags": []
   },
   "outputs": [],
   "source": [
    "from sklearn.model_selection import train_test_split\n",
    "from sklearn.linear_model import LinearRegression\n",
    "#split the dataset to training set and test set\n",
    "x_train, x_test, y_train, y_test = train_test_split(x, y, test_size=0.2, random_state=0)"
   ]
  },
  {
   "cell_type": "code",
   "execution_count": 6,
   "id": "completed-convenience",
   "metadata": {
    "execution": {
     "iopub.execute_input": "2021-05-02T07:39:29.834512Z",
     "iopub.status.busy": "2021-05-02T07:39:29.824447Z",
     "iopub.status.idle": "2021-05-02T07:39:29.843518Z",
     "shell.execute_reply": "2021-05-02T07:39:29.843039Z"
    },
    "papermill": {
     "duration": 0.042185,
     "end_time": "2021-05-02T07:39:29.843639",
     "exception": false,
     "start_time": "2021-05-02T07:39:29.801454",
     "status": "completed"
    },
    "tags": []
   },
   "outputs": [
    {
     "data": {
      "text/plain": [
       "LinearRegression()"
      ]
     },
     "execution_count": 6,
     "metadata": {},
     "output_type": "execute_result"
    }
   ],
   "source": [
    "#creting a linear regression model and fiting it\n",
    "student_model = LinearRegression()\n",
    "student_model.fit(x_train, y_train)"
   ]
  },
  {
   "cell_type": "code",
   "execution_count": 7,
   "id": "enhanced-wagner",
   "metadata": {
    "execution": {
     "iopub.execute_input": "2021-05-02T07:39:29.865665Z",
     "iopub.status.busy": "2021-05-02T07:39:29.865153Z",
     "iopub.status.idle": "2021-05-02T07:39:29.868515Z",
     "shell.execute_reply": "2021-05-02T07:39:29.868102Z"
    },
    "papermill": {
     "duration": 0.016828,
     "end_time": "2021-05-02T07:39:29.868631",
     "exception": false,
     "start_time": "2021-05-02T07:39:29.851803",
     "status": "completed"
    },
    "tags": []
   },
   "outputs": [
    {
     "name": "stdout",
     "output_type": "stream",
     "text": [
      "[16.88414476 33.73226078 75.357018   26.79480124 60.49103328]\n"
     ]
    }
   ],
   "source": [
    "y_pred = student_model.predict(x_test)\n",
    "print(y_pred)"
   ]
  },
  {
   "cell_type": "code",
   "execution_count": 8,
   "id": "looking-adobe",
   "metadata": {
    "execution": {
     "iopub.execute_input": "2021-05-02T07:39:29.894660Z",
     "iopub.status.busy": "2021-05-02T07:39:29.894112Z",
     "iopub.status.idle": "2021-05-02T07:39:29.903865Z",
     "shell.execute_reply": "2021-05-02T07:39:29.903316Z"
    },
    "papermill": {
     "duration": 0.026922,
     "end_time": "2021-05-02T07:39:29.903980",
     "exception": false,
     "start_time": "2021-05-02T07:39:29.877058",
     "status": "completed"
    },
    "tags": []
   },
   "outputs": [
    {
     "data": {
      "text/html": [
       "<div>\n",
       "<style scoped>\n",
       "    .dataframe tbody tr th:only-of-type {\n",
       "        vertical-align: middle;\n",
       "    }\n",
       "\n",
       "    .dataframe tbody tr th {\n",
       "        vertical-align: top;\n",
       "    }\n",
       "\n",
       "    .dataframe thead th {\n",
       "        text-align: right;\n",
       "    }\n",
       "</style>\n",
       "<table border=\"1\" class=\"dataframe\">\n",
       "  <thead>\n",
       "    <tr style=\"text-align: right;\">\n",
       "      <th></th>\n",
       "      <th>Actual</th>\n",
       "      <th>Predicted</th>\n",
       "    </tr>\n",
       "  </thead>\n",
       "  <tbody>\n",
       "    <tr>\n",
       "      <th>0</th>\n",
       "      <td>20</td>\n",
       "      <td>16.884145</td>\n",
       "    </tr>\n",
       "    <tr>\n",
       "      <th>1</th>\n",
       "      <td>27</td>\n",
       "      <td>33.732261</td>\n",
       "    </tr>\n",
       "    <tr>\n",
       "      <th>2</th>\n",
       "      <td>69</td>\n",
       "      <td>75.357018</td>\n",
       "    </tr>\n",
       "    <tr>\n",
       "      <th>3</th>\n",
       "      <td>30</td>\n",
       "      <td>26.794801</td>\n",
       "    </tr>\n",
       "    <tr>\n",
       "      <th>4</th>\n",
       "      <td>62</td>\n",
       "      <td>60.491033</td>\n",
       "    </tr>\n",
       "  </tbody>\n",
       "</table>\n",
       "</div>"
      ],
      "text/plain": [
       "   Actual  Predicted\n",
       "0      20  16.884145\n",
       "1      27  33.732261\n",
       "2      69  75.357018\n",
       "3      30  26.794801\n",
       "4      62  60.491033"
      ]
     },
     "execution_count": 8,
     "metadata": {},
     "output_type": "execute_result"
    }
   ],
   "source": [
    "df=pd.DataFrame({'Actual': y_test, 'Predicted': y_pred})\n",
    "df"
   ]
  },
  {
   "cell_type": "code",
   "execution_count": 9,
   "id": "interior-purse",
   "metadata": {
    "execution": {
     "iopub.execute_input": "2021-05-02T07:39:29.927755Z",
     "iopub.status.busy": "2021-05-02T07:39:29.927159Z",
     "iopub.status.idle": "2021-05-02T07:39:29.933269Z",
     "shell.execute_reply": "2021-05-02T07:39:29.933677Z"
    },
    "papermill": {
     "duration": 0.020954,
     "end_time": "2021-05-02T07:39:29.933834",
     "exception": false,
     "start_time": "2021-05-02T07:39:29.912880",
     "status": "completed"
    },
    "tags": []
   },
   "outputs": [
    {
     "name": "stdout",
     "output_type": "stream",
     "text": [
      "[93.69173249]\n"
     ]
    }
   ],
   "source": [
    "#to predict the value of marks scored by a student if the student studies for 9.25 hrs/day\n",
    "x_in = np.array([[9.25]])\n",
    "y_pred2 = student_model.predict(x_in)\n",
    "print(y_pred2)"
   ]
  }
 ],
 "metadata": {
  "kernelspec": {
   "display_name": "Python 3",
   "language": "python",
   "name": "python3"
  },
  "language_info": {
   "codemirror_mode": {
    "name": "ipython",
    "version": 3
   },
   "file_extension": ".py",
   "mimetype": "text/x-python",
   "name": "python",
   "nbconvert_exporter": "python",
   "pygments_lexer": "ipython3",
   "version": "3.7.9"
  },
  "papermill": {
   "default_parameters": {},
   "duration": 9.927172,
   "end_time": "2021-05-02T07:39:30.655288",
   "environment_variables": {},
   "exception": null,
   "input_path": "__notebook__.ipynb",
   "output_path": "__notebook__.ipynb",
   "parameters": {},
   "start_time": "2021-05-02T07:39:20.728116",
   "version": "2.3.2"
  }
 },
 "nbformat": 4,
 "nbformat_minor": 5
}
